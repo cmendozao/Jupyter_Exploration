{
 "cells": [
  {
   "cell_type": "code",
   "execution_count": 5,
   "metadata": {},
   "outputs": [],
   "source": [
    "import numpy as np\n",
    "import pandas as pd\n",
    "import matplotlib.pyplot as plt\n",
    "import seaborn as sns\n",
    "import time"
   ]
  },
  {
   "cell_type": "code",
   "execution_count": null,
   "metadata": {},
   "outputs": [],
   "source": [
    "ciudades = [\"Bogotá\", \"Cali\", \"Medellín\", \"Barranquilla\", \"Cúcuta\"]\n",
    "ciudades_series = pd.Series(ciudades)\n",
    "\n",
    "poblacion = {\n",
    "    \"Bogotá\": 9000000,\n",
    "    \"Cali\": 3000000,\n",
    "    \"Medellín\": 4000000,\n",
    "    \"Barranquilla\": 3000000,\n",
    "    \"Cúcuta\": 1000000,\n",
    "}\n",
    "\n",
    "poblacion_series = pd.Series(poblacion, name=\"población\")"
   ]
  },
  {
   "cell_type": "code",
   "execution_count": null,
   "metadata": {},
   "outputs": [],
   "source": [
    "demografia = {\n",
    "    \"NombreCiudad\": [\"Bogotá\", \"Cali\", \"Medellín\", \"Barranquilla\", \"Cúcuta\"],\n",
    "    \"Poblacion\": (9000000, 3000000, 4000000, 3000000, 1000000),\n",
    "    \"Altura\": np.array([2640, 1018, 1495, 1800, 2000])\n",
    "}\n",
    "\n",
    "demografia_df = pd.DataFrame(demografia)\n",
    "demografia_df"
   ]
  },
  {
   "cell_type": "markdown",
   "metadata": {},
   "source": [
    "## Lectura de archivos\n",
    "\n",
    "1. xlsx\n",
    "2. csv\n",
    "3. Parquet\n",
    "1. Local\n",
    "2. Google Drive\n",
    "3. GitHub"
   ]
  },
  {
   "cell_type": "code",
   "execution_count": null,
   "metadata": {},
   "outputs": [],
   "source": [
    "df1 = pd.read_excel(\"data/Acciones.xlsx\")\n",
    "df2 = pd.read_csv(\"data/airbnb.csv\")\n",
    "df3 = pd.read_csv(\n",
    "    \"data/iris.data\",\n",
    "    names = [\"v1\", \"v2\", \"v3\", \"v4\", \"v5\"]\n",
    ")"
   ]
  },
  {
   "cell_type": "markdown",
   "metadata": {},
   "source": [
    "### Escritura de archivos\n",
    "\n",
    "1. xlsx\n",
    "2. csv\n",
    "3. Parquet"
   ]
  },
  {
   "cell_type": "code",
   "execution_count": null,
   "metadata": {},
   "outputs": [],
   "source": [
    "%time df3.to_csv(\"outputs/iris.csv\", index=False)\n",
    "%time df3.to_excel(\"outputs/iris.xlsx\", index=False)\n",
    "%time df3.to_parquet(\"outputs/iris.parquet\")"
   ]
  },
  {
   "cell_type": "markdown",
   "metadata": {},
   "source": [
    "### Repositorios"
   ]
  },
  {
   "cell_type": "code",
   "execution_count": null,
   "metadata": {},
   "outputs": [],
   "source": [
    "df3.v1\n",
    "df3[[\"v1\", \"v2\"]]\n",
    "df3[\"v1\"][3]\n",
    "\n",
    "# .iloc permite hacer slices en orden [filas, columnas] - \"Series especificas a traves de indices\"\n",
    "\n",
    "df3.iloc[3] # Trae una serie con todos los atributos que tiene el Dataframe de un registro especifico\n",
    "df3.iloc[:,3] # Trae una serie con todos los registros de un atributo especifico\n",
    "df3.iloc[:3] # Trae un Dataframe con todos los atributos que tiene un Dataframe para sus primeros 3 registros\n",
    "df3.iloc[:10, 2] # Trae los primeros 10 registros de la columna 2\n",
    "df3.iloc[-3:] # Últimos 3 registros\n",
    "df3.iloc[-3:, 2] # Últimos 3 registros de la columna 2\n",
    "\n",
    "# .loc permite hacer slices en orden [filas, columnas] - \"Series especificas a traves de nombres de columnas y de filas\""
   ]
  }
 ],
 "metadata": {
  "kernelspec": {
   "display_name": "mel1",
   "language": "python",
   "name": "python3"
  },
  "language_info": {
   "codemirror_mode": {
    "name": "ipython",
    "version": 3
   },
   "file_extension": ".py",
   "mimetype": "text/x-python",
   "name": "python",
   "nbconvert_exporter": "python",
   "pygments_lexer": "ipython3",
   "version": "3.12.2"
  }
 },
 "nbformat": 4,
 "nbformat_minor": 2
}
