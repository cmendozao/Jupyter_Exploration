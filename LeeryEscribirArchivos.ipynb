{
 "cells": [
  {
   "cell_type": "code",
   "execution_count": 2,
   "metadata": {},
   "outputs": [],
   "source": [
    "import numpy as np\n",
    "import pandas as pd\n",
    "import matplotlib.pyplot as plt\n",
    "import seaborn as sns"
   ]
  },
  {
   "cell_type": "code",
   "execution_count": 9,
   "metadata": {},
   "outputs": [],
   "source": [
    "ciudades = [\"Bogotá\", \"Cali\", \"Medellín\", \"Barranquilla\", \"Cúcuta\"]\n",
    "ciudades_series = pd.Series(ciudades)\n",
    "\n",
    "poblacion = {\n",
    "    \"Bogotá\": 9000000,\n",
    "    \"Cali\": 3000000,\n",
    "    \"Medellín\": 4000000,\n",
    "    \"Barranquilla\": 3000000,\n",
    "    \"Cúcuta\": 1000000,\n",
    "}\n",
    "\n",
    "poblacion_series = pd.Series(poblacion, name=\"población\")\n"
   ]
  }
 ],
 "metadata": {
  "kernelspec": {
   "display_name": "mel1",
   "language": "python",
   "name": "python3"
  },
  "language_info": {
   "codemirror_mode": {
    "name": "ipython",
    "version": 3
   },
   "file_extension": ".py",
   "mimetype": "text/x-python",
   "name": "python",
   "nbconvert_exporter": "python",
   "pygments_lexer": "ipython3",
   "version": "3.12.2"
  }
 },
 "nbformat": 4,
 "nbformat_minor": 2
}
