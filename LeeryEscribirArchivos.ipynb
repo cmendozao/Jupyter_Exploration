{
 "cells": [
  {
   "cell_type": "code",
   "execution_count": null,
   "metadata": {},
   "outputs": [],
   "source": [
    "import numpy as np\n",
    "import pandas as pd\n",
    "import matplotlib.pyplot as plt\n",
    "import seaborn as sns\n",
    "import time"
   ]
  },
  {
   "cell_type": "code",
   "execution_count": null,
   "metadata": {},
   "outputs": [],
   "source": [
    "ciudades = [\"Bogotá\", \"Cali\", \"Medellín\", \"Barranquilla\", \"Cúcuta\"]\n",
    "ciudades_series = pd.Series(ciudades)\n",
    "\n",
    "poblacion = {\n",
    "    \"Bogotá\": 9000000,\n",
    "    \"Cali\": 3000000,\n",
    "    \"Medellín\": 4000000,\n",
    "    \"Barranquilla\": 3000000,\n",
    "    \"Cúcuta\": 1000000,\n",
    "}\n",
    "\n",
    "poblacion_series = pd.Series(poblacion, name=\"población\")"
   ]
  },
  {
   "cell_type": "code",
   "execution_count": null,
   "metadata": {},
   "outputs": [],
   "source": [
    "demografia = {\n",
    "    \"NombreCiudad\": [\"Bogotá\", \"Cali\", \"Medellín\", \"Barranquilla\", \"Cúcuta\"],\n",
    "    \"Poblacion\": (9000000, 3000000, 4000000, 3000000, 1000000),\n",
    "    \"Altura\": np.array([2640, 1018, 1495, 1800, 2000])\n",
    "}\n",
    "\n",
    "demografia_df = pd.DataFrame(demografia)\n",
    "demografia_df"
   ]
  },
  {
   "cell_type": "markdown",
   "metadata": {},
   "source": [
    "## Lectura de archivos\n",
    "\n",
    "1. xlsx\n",
    "2. csv\n",
    "3. Parquet\n",
    "1. Local\n",
    "2. Google Drive\n",
    "3. GitHub"
   ]
  },
  {
   "cell_type": "code",
   "execution_count": null,
   "metadata": {},
   "outputs": [],
   "source": [
    "df1 = pd.read_excel(\"data/Acciones.xlsx\")\n",
    "df2 = pd.read_csv(\"data/airbnb.csv\")\n",
    "df3 = pd.read_csv(\n",
    "    \"data/iris.data\",\n",
    "    names = [\"v1\", \"v2\", \"v3\", \"v4\", \"v5\"]\n",
    ")"
   ]
  },
  {
   "cell_type": "markdown",
   "metadata": {},
   "source": [
    "### Escritura de archivos\n",
    "\n",
    "1. xlsx\n",
    "2. csv\n",
    "3. Parquet"
   ]
  },
  {
   "cell_type": "code",
   "execution_count": null,
   "metadata": {},
   "outputs": [],
   "source": [
    "%time df3.to_csv(\"outputs/iris.csv\", index=False)\n",
    "%time df3.to_excel(\"outputs/iris.xlsx\", index=False)\n",
    "%time df3.to_parquet(\"outputs/iris.parquet\")"
   ]
  },
  {
   "cell_type": "markdown",
   "metadata": {},
   "source": [
    "### Repositorios"
   ]
  },
  {
   "cell_type": "code",
   "execution_count": null,
   "metadata": {},
   "outputs": [],
   "source": [
    "df3.v1\n",
    "df3[[\"v1\", \"v2\"]]\n",
    "df3[\"v1\"][3]\n",
    "\n",
    "# .iloc permite hacer slices en orden [filas, columnas] - \"Series especificas a traves de indices\"\n",
    "\n",
    "df3.iloc[3] # Trae una serie con todos los atributos que tiene el Dataframe de un registro especifico\n",
    "df3.iloc[:,3] # Trae una serie con todos los registros de un atributo especifico\n",
    "df3.iloc[:3] # Trae un Dataframe con todos los atributos que tiene un Dataframe para sus primeros 3 registros\n",
    "df3.iloc[:10, 2] # Trae los primeros 10 registros de la columna 2\n",
    "df3.iloc[-3:] # Últimos 3 registros\n",
    "df3.iloc[-3:, 2] # Últimos 3 registros de la columna 2\n",
    "\n",
    "# .loc permite hacer slices en orden [filas, columnas] - \"Series especificas a traves de nombres de columnas y de filas\""
   ]
  },
  {
   "cell_type": "markdown",
   "metadata": {},
   "source": [
    "### Selección condicional"
   ]
  },
  {
   "cell_type": "code",
   "execution_count": null,
   "metadata": {},
   "outputs": [],
   "source": [
    "df3.loc[df3.v5 == \"Iris-setosa\"]\n",
    "df3.loc[df3.v5 == \"Iris-setosa\"][df3.v3 == 1.4].nunique()\n"
   ]
  },
  {
   "cell_type": "code",
   "execution_count": null,
   "metadata": {},
   "outputs": [],
   "source": [
    "# Leer a CSV\n",
    "car = pd.read_csv(\"data/CarPrice_Assignment.csv\")\n",
    "car.info()\n",
    "car.CarName\n",
    "car['CarName']\n",
    "car[['CarName', 'fueltype']]\n",
    "car['CarName'][200]\n",
    "car.iloc[0]\n",
    "car.iloc[:,2]\n",
    "car.iloc[:10, 2]\n",
    "car.iloc[-5, 1:3]\n",
    "car.loc[:4, ['CarName', 'price', 'doornumber']]\n",
    "car[['CarName', 'price', 'doornumber']][:50]\n",
    "car.head()\n",
    "car.set_index('car_ID')\n",
    "car.set_index('car_ID', drop= True)\n",
    "car.set_index('car_ID', drop= True, inplace= True)\n"
   ]
  },
  {
   "cell_type": "markdown",
   "metadata": {},
   "source": [
    "## Selección condicional"
   ]
  },
  {
   "cell_type": "code",
   "execution_count": null,
   "metadata": {},
   "outputs": [],
   "source": [
    "car.loc[car.CarName == 'audi 100ls']\n",
    "car.loc[car.doornumber == 'four']\n",
    "car[car['doornumber'] == 'four']['CarName'].nunique()\n",
    "car[(car['price']<15000) | (car['fuelsystem'] == 'gas')][['CarName', 'fueltype', 'price']]\n",
    "car[(car['doornumber'] == 'four') & (car['horsepower'] > 120) & (car['price']> 20000)]\n",
    "car.describe()"
   ]
  },
  {
   "cell_type": "markdown",
   "metadata": {},
   "source": [
    "### Crear una condición múltiple"
   ]
  },
  {
   "cell_type": "code",
   "execution_count": null,
   "metadata": {},
   "outputs": [],
   "source": [
    "condicion1 = car[\"price\"] > 8000\n",
    "condicion2 = (car[\"fueltype\"] == \"diesel\") | (car[\"fueltype\"] == \"gas\")\n",
    "condicion3 = car[\"doornumber\"] == \"four\"\n",
    "\n",
    "car[condicion1 & condicion2 & condicion3]"
   ]
  },
  {
   "cell_type": "markdown",
   "metadata": {},
   "source": [
    "### Estadística descriptiva\n",
    "\n",
    "Se utiliza el método Describe(). Permite hacer un resumen de las variables categóricas."
   ]
  },
  {
   "cell_type": "code",
   "execution_count": null,
   "metadata": {},
   "outputs": [],
   "source": [
    "car.describe()\n",
    "print(\"conteo:\", car[\"price\"].count())\n",
    "print(\"El precio de todos los carros suman:\", car[\"price\"].sum())\n",
    "print(\"El valor mínimo de la serie es:\", car[\"price\"].min())\n",
    "print(\"El valor máximo de la serie es:\", car[\"price\"].max())\n",
    "print(\"El valor promedio de la serie es:\", car[\"price\"].mean())\n",
    "print(\"La mediana de la serie es:\", car[\"price\"].median())\n",
    "print(\"Los percentiles 50% y 99% de la serie son:\", car[\"price\"].quantile([0.50, 0.99]))\n",
    "print(\"La desviación estándar de la series es:\", car[\"price\"].std())"
   ]
  },
  {
   "cell_type": "markdown",
   "metadata": {},
   "source": [
    "### Ejercicio\n",
    "Usando los métodos vistos.\n",
    "1. Calcule el rango de la variable precio.\n",
    "2. Calcule el coeficiente de variación para la variable precio y área. El coeficiente de variación (CV) de la variable X está definido como:\n",
    "$$ CV (X) = \\frac{std(X)*100}{mean(X)} $$\n",
    "Donde:\n",
    "\n",
    "$CV (X)$ es el coeficiente de variación de la variable $X$\n",
    "\n",
    "$std(X)$ es la desviación estándar de la variable $X$\n",
    "\n",
    "$mean(X)$ es la media de la variable $X$\n",
    "\n",
    "El Coeficiente de variabiliad permite definir la dispersión relativa de la muestra en estudio, en otras palabras permite predecir auán agrupados alrededor de la media están los datos.  Utilice la siguiente tabla para determinar la variabilidad de la muestra:\n",
    "\n",
    "\n",
    "|Rango de Varaibilidad|Descripción|\n",
    "|:---------------------:|:-----------:|\n",
    "|0 < cv $\\leq$ 0.1| Variabilidad muy baja|\n",
    "|0.1 < cv $\\leq$ 0.25| Variabilidad baja|\n",
    "|0.25 < cv $\\leq$ 0.4| Variabilidad moderada|\n",
    "|0.4 < cv $\\leq$ 0.5| Alta variabilidad|\n",
    "|cv > 0.5| Variabilidad muy alta|\n"
   ]
  },
  {
   "cell_type": "code",
   "execution_count": 44,
   "metadata": {},
   "outputs": [
    {
     "name": "stdout",
     "output_type": "stream",
     "text": [
      "El rango de la variable precio es 40282.0\n",
      "El coeficiente de variación del precio es 60.171925035064376\n",
      "La variabilidad es muy alta\n"
     ]
    }
   ],
   "source": [
    "# Rango de precios\n",
    "\n",
    "rango = car[\"price\"].max() - car[\"price\"].min()\n",
    "print(\"El rango de la variable precio es {}\".format(rango))\n",
    "\n",
    "std_price = car[\"price\"].std()\n",
    "mean_price = car[\"price\"].mean()\n",
    "cv_price = std_price*100/mean_price\n",
    "\n",
    "print(\"El coeficiente de variación del precio es {}\".format(cv_price))\n",
    "\n",
    "if cv_price < 0.1:\n",
    "    print(\"La variabilidad es muy baja\")\n",
    "elif cv_price < 0.25:\n",
    "    print(\"La variabilidad es baja\")\n",
    "elif cv_price < 0.4:\n",
    "    print(\"La variabilidad es moderada\")\n",
    "elif cv_price < 0.5:\n",
    "    print(\"La variabilidad es alta\")\n",
    "else:\n",
    "    print(\"La variabilidad es muy alta\")"
   ]
  }
 ],
 "metadata": {
  "kernelspec": {
   "display_name": "mel1",
   "language": "python",
   "name": "python3"
  },
  "language_info": {
   "codemirror_mode": {
    "name": "ipython",
    "version": 3
   },
   "file_extension": ".py",
   "mimetype": "text/x-python",
   "name": "python",
   "nbconvert_exporter": "python",
   "pygments_lexer": "ipython3",
   "version": "3.1.undefined"
  }
 },
 "nbformat": 4,
 "nbformat_minor": 2
}
